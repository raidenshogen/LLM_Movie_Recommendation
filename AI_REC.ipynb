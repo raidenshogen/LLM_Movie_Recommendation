{
  "metadata": {
    "kernelspec": {
      "name": "python",
      "display_name": "Python (Pyodide)",
      "language": "python"
    },
    "language_info": {
      "codemirror_mode": {
        "name": "python",
        "version": 3
      },
      "file_extension": ".py",
      "mimetype": "text/x-python",
      "name": "python",
      "nbconvert_exporter": "python",
      "pygments_lexer": "ipython3",
      "version": "3.8"
    }
  },
  "nbformat_minor": 5,
  "nbformat": 4,
  "cells": [
    {
      "id": "e2c6444e-5852-4252-b8af-0815e8816939",
      "cell_type": "code",
      "source": "%pip install ipywidgets\n%pip install requests beautifulsoup4 pandas\n",
      "metadata": {
        "trusted": true
      },
      "outputs": [],
      "execution_count": 6
    },
    {
      "id": "a92498a9-ac4e-4034-9e6d-8b0d378e7548",
      "cell_type": "code",
      "source": "\nimport pandas as pd\nimport numpy as np\nfrom sklearn.feature_extraction.text import TfidfVectorizer\nfrom sklearn.metrics.pairwise import cosine_similarity\nimport ipywidgets as widgets\nfrom IPython.display import display\n\n# Load the dataset\nmovies = pd.read_csv('./movies.csv')\n\n# Clean column names and data\nmovies.columns = movies.columns.str.strip()\nmovies['Worldwide Gross'] = movies['Worldwide Gross'].str.replace('$', '').str.replace(',', '').astype(float)\nmovies['Genre'] = movies['Genre'].str.strip()",
      "metadata": {
        "trusted": true
      },
      "outputs": [],
      "execution_count": 12
    },
    {
      "id": "06d9eb66-65a3-4b5c-995e-163728e74f97",
      "cell_type": "code",
      "source": "# Create a combined feature for recommendation\nmovies['combined_features'] = movies['Genre'] + ' ' + movies['Lead Studio'] + ' ' + movies['Year'].astype(str)\n\n# Clean and prepare text data (using raw string)\nmovies['combined_features'] = movies['combined_features'].str.lower().str.replace(r'[^\\w\\s]', '')\n\n# Handle missing values\nmovies.fillna('', inplace=True)",
      "metadata": {
        "trusted": true
      },
      "outputs": [],
      "execution_count": 15
    },
    {
      "id": "8aae967a-6795-4112-814e-600936b32614",
      "cell_type": "code",
      "source": "# Initialize TF-IDF Vectorizer\ntfidf = TfidfVectorizer(stop_words='english')\ntfidf_matrix = tfidf.fit_transform(movies['combined_features'])\n\n# Compute cosine similarity\ncosine_sim = cosine_similarity(tfidf_matrix, tfidf_matrix)\n\n# Create mapping between title and index\nindices = pd.Series(movies.index, index=movies['Film']).drop_duplicates()\n\ndef get_recommendations(title, cosine_sim=cosine_sim):\n    # Get the index of the movie that matches the title\n    idx = indices[title]\n    \n    # Get the pairwise similarity scores\n    sim_scores = list(enumerate(cosine_sim[idx]))\n    \n    # Sort the movies based on the similarity scores\n    sim_scores = sorted(sim_scores, key=lambda x: x[1], reverse=True)\n    \n    # Get the scores of the 10 most similar movies\n    sim_scores = sim_scores[1:11]\n    \n    # Get the movie indices\n    movie_indices = [i[0] for i in sim_scores]\n    \n    # Return the top 10 most similar movies\n    return movies[['Film', 'Genre', 'Lead Studio', 'Audience score %', 'Rotten Tomatoes %']].iloc[movie_indices]",
      "metadata": {
        "trusted": true
      },
      "outputs": [],
      "execution_count": 16
    },
    {
      "id": "4273e331-ca11-466a-b1cf-240dc7b56142",
      "cell_type": "code",
      "source": "# Get unique values for filters\ngenres = sorted(movies['Genre'].unique())\nstudios = sorted(movies['Lead Studio'].unique())\nyears = sorted(movies['Year'].unique(), reverse=True)\n\n# Create widgets\ngenre_dropdown = widgets.Dropdown(\n    options=genres,\n    description='Genre:',\n    disabled=False\n)\n\nstudio_dropdown = widgets.Dropdown(\n    options=studios,\n    description='Studio:',\n    disabled=False\n)\n\nyear_slider = widgets.IntSlider(\n    value=2011,\n    min=min(years),\n    max=max(years),\n    step=1,\n    description='Year:'\n)\n\nrating_slider = widgets.IntSlider(\n    value=50,\n    min=0,\n    max=100,\n    step=1,\n    description='Min Audience Score:'\n)\n\nsubmit_button = widgets.Button(description=\"Get Recommendations\")\n\n# Display widgets\ndisplay(genre_dropdown)\ndisplay(studio_dropdown)\ndisplay(year_slider)\ndisplay(rating_slider)\ndisplay(submit_button)\n\n# Recommendation function\ndef on_submit_button_clicked(b):\n    filtered_movies = movies.copy()\n    \n    # Apply filters\n    if genre_dropdown.value:\n        filtered_movies = filtered_movies[filtered_movies['Genre'] == genre_dropdown.value]\n    \n    if studio_dropdown.value:\n        filtered_movies = filtered_movies[filtered_movies['Lead Studio'] == studio_dropdown.value]\n    \n    filtered_movies = filtered_movies[filtered_movies['Year'] <= year_slider.value]\n    filtered_movies = filtered_movies[filtered_movies['Audience score %'] >= rating_slider.value]\n    \n    # Sort by weighted score (audience + critic ratings)\n    filtered_movies['score'] = filtered_movies['Audience score %'] * 0.7 + filtered_movies['Rotten Tomatoes %'] * 0.3\n    \n    if len(filtered_movies) == 0:\n        print(\"No movies match all your criteria. Here are some popular movies you might like:\")\n        display(movies.sort_values(['Audience score %', 'Rotten Tomatoes %'], ascending=False).head(10)[['Film', 'Genre', 'Lead Studio']])\n    else:\n        print(f\"Found {len(filtered_movies)} matching movies. Here are the top recommendations:\")\n        display(filtered_movies.sort_values('score', ascending=False).head(10)[['Film', 'Genre', 'Lead Studio', 'Audience score %', 'Rotten Tomatoes %']])\n\nsubmit_button.on_click(on_submit_button_clicked)",
      "metadata": {
        "trusted": true
      },
      "outputs": [
        {
          "output_type": "display_data",
          "data": {
            "text/plain": "Dropdown(description='Genre:', options=('Action', 'Animation', 'Comdy', 'Comedy', 'Drama', 'Fantasy', 'Romance…",
            "application/vnd.jupyter.widget-view+json": {
              "version_major": 2,
              "version_minor": 0,
              "model_id": "8a0953a6aa2540448db352496c083c50"
            }
          },
          "metadata": {}
        },
        {
          "output_type": "display_data",
          "data": {
            "text/plain": "Dropdown(description='Studio:', options=('20th Century Fox', 'CBS', 'Disney', 'Fox', 'Independent', 'Lionsgate…",
            "application/vnd.jupyter.widget-view+json": {
              "version_major": 2,
              "version_minor": 0,
              "model_id": "d5b7ec786cb74622a772af25c43bbf28"
            }
          },
          "metadata": {}
        },
        {
          "output_type": "display_data",
          "data": {
            "text/plain": "IntSlider(value=2011, description='Year:', max=2011, min=2007)",
            "application/vnd.jupyter.widget-view+json": {
              "version_major": 2,
              "version_minor": 0,
              "model_id": "008a09ccda474500b74106ea650e6568"
            }
          },
          "metadata": {}
        },
        {
          "output_type": "display_data",
          "data": {
            "text/plain": "IntSlider(value=50, description='Min Audience Score:')",
            "application/vnd.jupyter.widget-view+json": {
              "version_major": 2,
              "version_minor": 0,
              "model_id": "f7f51374de55440cb43295dce59eaf75"
            }
          },
          "metadata": {}
        },
        {
          "output_type": "display_data",
          "data": {
            "text/plain": "Button(description='Get Recommendations', style=ButtonStyle())",
            "application/vnd.jupyter.widget-view+json": {
              "version_major": 2,
              "version_minor": 0,
              "model_id": "54f393ac9f5144308296e0c6a89b430a"
            }
          },
          "metadata": {}
        }
      ],
      "execution_count": 20
    },
    {
      "id": "daddfc40-d311-469f-871c-c6b7f5f4f285",
      "cell_type": "code",
      "source": "",
      "metadata": {
        "trusted": true
      },
      "outputs": [],
      "execution_count": null
    }
  ]
}